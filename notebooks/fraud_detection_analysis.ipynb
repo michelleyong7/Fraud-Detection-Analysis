{
 "cells": [
  {
   "cell_type": "code",
   "execution_count": 26,
   "id": "359777e6",
   "metadata": {},
   "outputs": [
    {
     "data": {
      "text/html": [
       "<div>\n",
       "<style scoped>\n",
       "    .dataframe tbody tr th:only-of-type {\n",
       "        vertical-align: middle;\n",
       "    }\n",
       "\n",
       "    .dataframe tbody tr th {\n",
       "        vertical-align: top;\n",
       "    }\n",
       "\n",
       "    .dataframe thead th {\n",
       "        text-align: right;\n",
       "    }\n",
       "</style>\n",
       "<table border=\"1\" class=\"dataframe\">\n",
       "  <thead>\n",
       "    <tr style=\"text-align: right;\">\n",
       "      <th></th>\n",
       "      <th>transaction_id</th>\n",
       "      <th>user_id</th>\n",
       "      <th>amount</th>\n",
       "      <th>timestamp</th>\n",
       "      <th>city</th>\n",
       "      <th>merchant_id</th>\n",
       "      <th>refund_flag</th>\n",
       "      <th>device_id</th>\n",
       "      <th>ip_address</th>\n",
       "    </tr>\n",
       "  </thead>\n",
       "  <tbody>\n",
       "    <tr>\n",
       "      <th>0</th>\n",
       "      <td>4c5fe327-6ce7-4d78-be82-1a534701bab2</td>\n",
       "      <td>1418</td>\n",
       "      <td>4564.12</td>\n",
       "      <td>2024-10-29 11:20:33</td>\n",
       "      <td>Latashafort</td>\n",
       "      <td>0fac5605-0745-4a3f-82fc-cfdb7aa4d715</td>\n",
       "      <td>0</td>\n",
       "      <td>286c9591-6ca1-4faf-881d-a48a66115876</td>\n",
       "      <td>223.49.188.182</td>\n",
       "    </tr>\n",
       "    <tr>\n",
       "      <th>1</th>\n",
       "      <td>4bb57621-eab2-463d-b07a-b7c2d0cdeb8c</td>\n",
       "      <td>4824</td>\n",
       "      <td>249.24</td>\n",
       "      <td>2024-10-29 11:29:00</td>\n",
       "      <td>Cruzchester</td>\n",
       "      <td>1cdf9dab-aabf-47dd-8c67-0b41e8ff6cc9</td>\n",
       "      <td>0</td>\n",
       "      <td>21915fa0-0ec2-4e00-a4bc-28afc71cc5bd</td>\n",
       "      <td>197.65.53.245</td>\n",
       "    </tr>\n",
       "    <tr>\n",
       "      <th>2</th>\n",
       "      <td>b829e887-edb5-4c8f-8e5e-f4fc79efe534</td>\n",
       "      <td>1205</td>\n",
       "      <td>1111.49</td>\n",
       "      <td>2024-10-29 11:33:12</td>\n",
       "      <td>Whitneyberg</td>\n",
       "      <td>ffc2965d-71e9-4a06-b7fc-d02325422e9b</td>\n",
       "      <td>0</td>\n",
       "      <td>464d1ee0-6c21-42f0-b7aa-736c85d859f2</td>\n",
       "      <td>140.151.1.164</td>\n",
       "    </tr>\n",
       "    <tr>\n",
       "      <th>3</th>\n",
       "      <td>67d521f7-5c15-4175-8970-2cd1d6c04bc0</td>\n",
       "      <td>4445</td>\n",
       "      <td>2097.22</td>\n",
       "      <td>2024-10-29 11:40:19</td>\n",
       "      <td>East John</td>\n",
       "      <td>dd4f2231-9b8b-4568-b723-01ef6878288d</td>\n",
       "      <td>0</td>\n",
       "      <td>2ff64fab-ebde-4fe7-a8f7-53eece1703e6</td>\n",
       "      <td>32.228.178.27</td>\n",
       "    </tr>\n",
       "    <tr>\n",
       "      <th>4</th>\n",
       "      <td>cc8a9906-89b0-4b07-a7fa-d9e1498c2254</td>\n",
       "      <td>2085</td>\n",
       "      <td>3815.87</td>\n",
       "      <td>2024-10-29 11:45:28</td>\n",
       "      <td>Allenbury</td>\n",
       "      <td>ac084b11-7bdc-42da-a1c9-a14d60f662e9</td>\n",
       "      <td>0</td>\n",
       "      <td>79225e0f-9ff7-429a-bbbc-d9f6cd729156</td>\n",
       "      <td>38.166.176.127</td>\n",
       "    </tr>\n",
       "  </tbody>\n",
       "</table>\n",
       "</div>"
      ],
      "text/plain": [
       "                         transaction_id  user_id   amount  \\\n",
       "0  4c5fe327-6ce7-4d78-be82-1a534701bab2     1418  4564.12   \n",
       "1  4bb57621-eab2-463d-b07a-b7c2d0cdeb8c     4824   249.24   \n",
       "2  b829e887-edb5-4c8f-8e5e-f4fc79efe534     1205  1111.49   \n",
       "3  67d521f7-5c15-4175-8970-2cd1d6c04bc0     4445  2097.22   \n",
       "4  cc8a9906-89b0-4b07-a7fa-d9e1498c2254     2085  3815.87   \n",
       "\n",
       "             timestamp         city                           merchant_id  \\\n",
       "0  2024-10-29 11:20:33  Latashafort  0fac5605-0745-4a3f-82fc-cfdb7aa4d715   \n",
       "1  2024-10-29 11:29:00  Cruzchester  1cdf9dab-aabf-47dd-8c67-0b41e8ff6cc9   \n",
       "2  2024-10-29 11:33:12  Whitneyberg  ffc2965d-71e9-4a06-b7fc-d02325422e9b   \n",
       "3  2024-10-29 11:40:19    East John  dd4f2231-9b8b-4568-b723-01ef6878288d   \n",
       "4  2024-10-29 11:45:28    Allenbury  ac084b11-7bdc-42da-a1c9-a14d60f662e9   \n",
       "\n",
       "   refund_flag                             device_id      ip_address  \n",
       "0            0  286c9591-6ca1-4faf-881d-a48a66115876  223.49.188.182  \n",
       "1            0  21915fa0-0ec2-4e00-a4bc-28afc71cc5bd   197.65.53.245  \n",
       "2            0  464d1ee0-6c21-42f0-b7aa-736c85d859f2   140.151.1.164  \n",
       "3            0  2ff64fab-ebde-4fe7-a8f7-53eece1703e6   32.228.178.27  \n",
       "4            0  79225e0f-9ff7-429a-bbbc-d9f6cd729156  38.166.176.127  "
      ]
     },
     "execution_count": 26,
     "metadata": {},
     "output_type": "execute_result"
    }
   ],
   "source": [
    "import pandas as pd\n",
    "df = pd.read_csv(\"../data/fraud_detection_transactions.csv\")\n",
    "df.head()\n",
    "\n"
   ]
  },
  {
   "cell_type": "code",
   "execution_count": 27,
   "id": "ae01cba5",
   "metadata": {},
   "outputs": [
    {
     "name": "stdout",
     "output_type": "stream",
     "text": [
      "<class 'pandas.core.frame.DataFrame'>\n",
      "RangeIndex: 30000 entries, 0 to 29999\n",
      "Data columns (total 9 columns):\n",
      " #   Column          Non-Null Count  Dtype  \n",
      "---  ------          --------------  -----  \n",
      " 0   transaction_id  30000 non-null  object \n",
      " 1   user_id         30000 non-null  int64  \n",
      " 2   amount          30000 non-null  float64\n",
      " 3   timestamp       30000 non-null  object \n",
      " 4   city            30000 non-null  object \n",
      " 5   merchant_id     30000 non-null  object \n",
      " 6   refund_flag     30000 non-null  int64  \n",
      " 7   device_id       30000 non-null  object \n",
      " 8   ip_address      30000 non-null  object \n",
      "dtypes: float64(1), int64(2), object(6)\n",
      "memory usage: 2.1+ MB\n"
     ]
    }
   ],
   "source": [
    "df.info()\n"
   ]
  },
  {
   "cell_type": "code",
   "execution_count": 28,
   "id": "baafc5d8",
   "metadata": {},
   "outputs": [],
   "source": [
    "df['timestamp'] = pd.to_datetime(df['timestamp'])"
   ]
  },
  {
   "cell_type": "code",
   "execution_count": 29,
   "id": "68a52b77",
   "metadata": {},
   "outputs": [],
   "source": [
    "df['hour'] = df['timestamp'].dt.hour  "
   ]
  },
  {
   "cell_type": "code",
   "execution_count": 30,
   "id": "a8d18904",
   "metadata": {},
   "outputs": [],
   "source": [
    "df['txn_hour'] = df['timestamp'].dt.floor('h') "
   ]
  },
  {
   "cell_type": "code",
   "execution_count": 31,
   "id": "eb801c5c",
   "metadata": {},
   "outputs": [
    {
     "data": {
      "text/plain": [
       "hour\n",
       "0     1269\n",
       "1     1175\n",
       "2     1287\n",
       "3     1291\n",
       "4     1256\n",
       "5     1219\n",
       "6     1203\n",
       "7     1286\n",
       "8     1273\n",
       "9     1246\n",
       "10    1288\n",
       "11    1190\n",
       "12    1267\n",
       "13    1221\n",
       "14    1183\n",
       "15    1195\n",
       "16    1278\n",
       "17    1211\n",
       "18    1245\n",
       "19    1277\n",
       "20    1273\n",
       "21    1307\n",
       "22    1319\n",
       "23    1241\n",
       "Name: count, dtype: int64"
      ]
     },
     "execution_count": 31,
     "metadata": {},
     "output_type": "execute_result"
    }
   ],
   "source": [
    "df['hour'].value_counts().sort_index()"
   ]
  },
  {
   "cell_type": "code",
   "execution_count": 32,
   "id": "75d9725e",
   "metadata": {},
   "outputs": [],
   "source": [
    "txn_counts = df.groupby(['user_id', 'txn_hour']).size().reset_index(name='txn_count')\n",
    "high_freq_users = txn_counts[txn_counts['txn_count'] > 5]"
   ]
  },
  {
   "cell_type": "code",
   "execution_count": 33,
   "id": "f77ce3a1",
   "metadata": {},
   "outputs": [],
   "source": [
    "df = df.merge(high_freq_users[['user_id', 'txn_hour']], on=['user_id', 'txn_hour'], how='left', indicator=True)\n",
    "df['high_freq_flag'] = (df['_merge'] == 'both').astype(int)\n",
    "df.drop('_merge', axis=1, inplace=True)"
   ]
  },
  {
   "cell_type": "code",
   "execution_count": 34,
   "id": "faf0ddff",
   "metadata": {},
   "outputs": [
    {
     "data": {
      "text/plain": [
       "user_id\n",
       "5993    11\n",
       "8059    11\n",
       "7905    11\n",
       "8004    11\n",
       "9300    11\n",
       "2466    10\n",
       "4062    10\n",
       "5579    10\n",
       "6271    10\n",
       "8576    10\n",
       "Name: count, dtype: int64"
      ]
     },
     "execution_count": 34,
     "metadata": {},
     "output_type": "execute_result"
    }
   ],
   "source": [
    "df['user_id'].value_counts().head(10)"
   ]
  },
  {
   "cell_type": "code",
   "execution_count": 35,
   "id": "33c326a3",
   "metadata": {},
   "outputs": [
    {
     "data": {
      "text/html": [
       "<div>\n",
       "<style scoped>\n",
       "    .dataframe tbody tr th:only-of-type {\n",
       "        vertical-align: middle;\n",
       "    }\n",
       "\n",
       "    .dataframe tbody tr th {\n",
       "        vertical-align: top;\n",
       "    }\n",
       "\n",
       "    .dataframe thead th {\n",
       "        text-align: right;\n",
       "    }\n",
       "</style>\n",
       "<table border=\"1\" class=\"dataframe\">\n",
       "  <thead>\n",
       "    <tr style=\"text-align: right;\">\n",
       "      <th></th>\n",
       "      <th>transaction_id</th>\n",
       "      <th>user_id</th>\n",
       "      <th>amount</th>\n",
       "      <th>timestamp</th>\n",
       "      <th>city</th>\n",
       "      <th>merchant_id</th>\n",
       "      <th>refund_flag</th>\n",
       "      <th>device_id</th>\n",
       "      <th>ip_address</th>\n",
       "      <th>hour</th>\n",
       "      <th>txn_hour</th>\n",
       "      <th>high_freq_flag</th>\n",
       "    </tr>\n",
       "  </thead>\n",
       "  <tbody>\n",
       "    <tr>\n",
       "      <th>36</th>\n",
       "      <td>ab081b8b-c5da-4c28-8725-2fbb0bade9a3</td>\n",
       "      <td>7954</td>\n",
       "      <td>4641.00</td>\n",
       "      <td>2024-10-29 16:06:52</td>\n",
       "      <td>Prestonshire</td>\n",
       "      <td>e05f615b-ab03-40cb-83bb-256a345d47bb</td>\n",
       "      <td>1</td>\n",
       "      <td>d96c7b20-42ec-4425-90b5-dbb35559b7c0</td>\n",
       "      <td>101.69.35.130</td>\n",
       "      <td>16</td>\n",
       "      <td>2024-10-29 16:00:00</td>\n",
       "      <td>0</td>\n",
       "    </tr>\n",
       "    <tr>\n",
       "      <th>39</th>\n",
       "      <td>3c880092-632c-4b7f-a9e9-22a45c031d8d</td>\n",
       "      <td>3069</td>\n",
       "      <td>1787.61</td>\n",
       "      <td>2024-10-29 16:39:04</td>\n",
       "      <td>Weaverton</td>\n",
       "      <td>feb31818-fd49-4b16-8d86-060485f3e426</td>\n",
       "      <td>1</td>\n",
       "      <td>9267dddb-44a9-4d57-92a6-01c9c323547c</td>\n",
       "      <td>190.32.46.141</td>\n",
       "      <td>16</td>\n",
       "      <td>2024-10-29 16:00:00</td>\n",
       "      <td>0</td>\n",
       "    </tr>\n",
       "    <tr>\n",
       "      <th>51</th>\n",
       "      <td>fb728f49-07d3-4a33-a526-4ccb2bc45389</td>\n",
       "      <td>4534</td>\n",
       "      <td>1494.25</td>\n",
       "      <td>2024-10-29 18:04:11</td>\n",
       "      <td>Brightborough</td>\n",
       "      <td>082415ed-8bd0-4eff-a3f7-b08002587eac</td>\n",
       "      <td>1</td>\n",
       "      <td>71a0ef2d-d564-45fd-b4c6-8a093ddfb74f</td>\n",
       "      <td>44.85.227.255</td>\n",
       "      <td>18</td>\n",
       "      <td>2024-10-29 18:00:00</td>\n",
       "      <td>0</td>\n",
       "    </tr>\n",
       "    <tr>\n",
       "      <th>53</th>\n",
       "      <td>56f2daa5-520c-4556-acf6-6af265cb060b</td>\n",
       "      <td>7872</td>\n",
       "      <td>2903.93</td>\n",
       "      <td>2024-10-29 18:22:28</td>\n",
       "      <td>Kingbury</td>\n",
       "      <td>5869b740-3dee-4a02-aeb4-83dedd17b2ef</td>\n",
       "      <td>1</td>\n",
       "      <td>4342b6c7-a3b4-408a-9a65-bd8adae29b3f</td>\n",
       "      <td>3.229.183.245</td>\n",
       "      <td>18</td>\n",
       "      <td>2024-10-29 18:00:00</td>\n",
       "      <td>0</td>\n",
       "    </tr>\n",
       "    <tr>\n",
       "      <th>62</th>\n",
       "      <td>9f8ca46c-f2bf-4623-9c7e-71828ea5e2fe</td>\n",
       "      <td>4673</td>\n",
       "      <td>160.66</td>\n",
       "      <td>2024-10-29 19:37:22</td>\n",
       "      <td>Russellville</td>\n",
       "      <td>75829654-c313-44ba-bc82-97c43fece336</td>\n",
       "      <td>1</td>\n",
       "      <td>256421c7-470d-43c5-a511-b398660b5f3f</td>\n",
       "      <td>79.172.124.145</td>\n",
       "      <td>19</td>\n",
       "      <td>2024-10-29 19:00:00</td>\n",
       "      <td>0</td>\n",
       "    </tr>\n",
       "  </tbody>\n",
       "</table>\n",
       "</div>"
      ],
      "text/plain": [
       "                          transaction_id  user_id   amount  \\\n",
       "36  ab081b8b-c5da-4c28-8725-2fbb0bade9a3     7954  4641.00   \n",
       "39  3c880092-632c-4b7f-a9e9-22a45c031d8d     3069  1787.61   \n",
       "51  fb728f49-07d3-4a33-a526-4ccb2bc45389     4534  1494.25   \n",
       "53  56f2daa5-520c-4556-acf6-6af265cb060b     7872  2903.93   \n",
       "62  9f8ca46c-f2bf-4623-9c7e-71828ea5e2fe     4673   160.66   \n",
       "\n",
       "             timestamp           city                           merchant_id  \\\n",
       "36 2024-10-29 16:06:52   Prestonshire  e05f615b-ab03-40cb-83bb-256a345d47bb   \n",
       "39 2024-10-29 16:39:04      Weaverton  feb31818-fd49-4b16-8d86-060485f3e426   \n",
       "51 2024-10-29 18:04:11  Brightborough  082415ed-8bd0-4eff-a3f7-b08002587eac   \n",
       "53 2024-10-29 18:22:28       Kingbury  5869b740-3dee-4a02-aeb4-83dedd17b2ef   \n",
       "62 2024-10-29 19:37:22   Russellville  75829654-c313-44ba-bc82-97c43fece336   \n",
       "\n",
       "    refund_flag                             device_id      ip_address  hour  \\\n",
       "36            1  d96c7b20-42ec-4425-90b5-dbb35559b7c0   101.69.35.130    16   \n",
       "39            1  9267dddb-44a9-4d57-92a6-01c9c323547c   190.32.46.141    16   \n",
       "51            1  71a0ef2d-d564-45fd-b4c6-8a093ddfb74f   44.85.227.255    18   \n",
       "53            1  4342b6c7-a3b4-408a-9a65-bd8adae29b3f   3.229.183.245    18   \n",
       "62            1  256421c7-470d-43c5-a511-b398660b5f3f  79.172.124.145    19   \n",
       "\n",
       "              txn_hour  high_freq_flag  \n",
       "36 2024-10-29 16:00:00               0  \n",
       "39 2024-10-29 16:00:00               0  \n",
       "51 2024-10-29 18:00:00               0  \n",
       "53 2024-10-29 18:00:00               0  \n",
       "62 2024-10-29 19:00:00               0  "
      ]
     },
     "execution_count": 35,
     "metadata": {},
     "output_type": "execute_result"
    }
   ],
   "source": [
    "df[df['refund_flag'] == 1].head()"
   ]
  },
  {
   "cell_type": "code",
   "execution_count": 36,
   "id": "2a6717c0",
   "metadata": {},
   "outputs": [],
   "source": [
    "df[df['high_freq_flag'] == 1].to_csv(\"../data/high_frequency_users.csv\", index=False)"
   ]
  },
  {
   "cell_type": "code",
   "execution_count": 45,
   "id": "21bb1c85",
   "metadata": {},
   "outputs": [],
   "source": [
    "#rule 2: transactions between 2AM-4AM\n",
    "import pandas as pd\n",
    "import sqlite3\n",
    "\n",
    "# load csv\n",
    "df = pd.read_csv(\"../data/fraud_detection_transactions.csv\")\n",
    "df['timestamp'] = pd.to_datetime(df['timestamp'])  "
   ]
  },
  {
   "cell_type": "code",
   "execution_count": 40,
   "id": "c1fedd78",
   "metadata": {},
   "outputs": [
    {
     "data": {
      "text/plain": [
       "30000"
      ]
     },
     "execution_count": 40,
     "metadata": {},
     "output_type": "execute_result"
    }
   ],
   "source": [
    "# connect to sqlite\n",
    "conn = sqlite3.connect(\"../sql/fraud_detection.db\")\n",
    "\n",
    "# save dataframe to table named 'transactions'\n",
    "df.to_sql('transactions', conn, if_exists='replace', index=False)"
   ]
  },
  {
   "cell_type": "code",
   "execution_count": 42,
   "id": "f33dfec3",
   "metadata": {},
   "outputs": [
    {
     "data": {
      "text/html": [
       "<div>\n",
       "<style scoped>\n",
       "    .dataframe tbody tr th:only-of-type {\n",
       "        vertical-align: middle;\n",
       "    }\n",
       "\n",
       "    .dataframe tbody tr th {\n",
       "        vertical-align: top;\n",
       "    }\n",
       "\n",
       "    .dataframe thead th {\n",
       "        text-align: right;\n",
       "    }\n",
       "</style>\n",
       "<table border=\"1\" class=\"dataframe\">\n",
       "  <thead>\n",
       "    <tr style=\"text-align: right;\">\n",
       "      <th></th>\n",
       "      <th>transaction_id</th>\n",
       "      <th>user_id</th>\n",
       "      <th>amount</th>\n",
       "      <th>timestamp</th>\n",
       "      <th>city</th>\n",
       "      <th>merchant_id</th>\n",
       "      <th>refund_flag</th>\n",
       "      <th>device_id</th>\n",
       "      <th>ip_address</th>\n",
       "    </tr>\n",
       "  </thead>\n",
       "  <tbody>\n",
       "    <tr>\n",
       "      <th>0</th>\n",
       "      <td>4cc3cf9b-4e58-499e-b9b4-6d971b7740ca</td>\n",
       "      <td>8924</td>\n",
       "      <td>3718.93</td>\n",
       "      <td>2024-10-30 02:00:24</td>\n",
       "      <td>Gatesport</td>\n",
       "      <td>04bdaac1-8944-4db7-95d9-4ce8a17157d1</td>\n",
       "      <td>0</td>\n",
       "      <td>aa9c3270-2ffc-4c09-a9c3-4ef68543321e</td>\n",
       "      <td>193.57.14.4</td>\n",
       "    </tr>\n",
       "    <tr>\n",
       "      <th>1</th>\n",
       "      <td>40136a9a-cd26-452e-91e0-fc338dab9990</td>\n",
       "      <td>1323</td>\n",
       "      <td>4180.20</td>\n",
       "      <td>2024-10-30 02:13:11</td>\n",
       "      <td>Josephmouth</td>\n",
       "      <td>fefd20f7-3eae-4604-bdfa-537d4d37e4a1</td>\n",
       "      <td>0</td>\n",
       "      <td>2e8d4947-83c3-4944-ab1a-5da90b72311b</td>\n",
       "      <td>71.134.231.81</td>\n",
       "    </tr>\n",
       "    <tr>\n",
       "      <th>2</th>\n",
       "      <td>41f0dd83-f71b-4e79-a7d1-38c074a5502f</td>\n",
       "      <td>2301</td>\n",
       "      <td>2743.46</td>\n",
       "      <td>2024-10-30 02:17:13</td>\n",
       "      <td>Austinchester</td>\n",
       "      <td>2c5e38cb-ee4f-414b-a9c4-50735b123cf3</td>\n",
       "      <td>0</td>\n",
       "      <td>3e74126c-3063-4854-a3e7-e369d8ea9b41</td>\n",
       "      <td>173.99.247.135</td>\n",
       "    </tr>\n",
       "    <tr>\n",
       "      <th>3</th>\n",
       "      <td>dafa566b-e961-4ab6-979a-38a225dbf373</td>\n",
       "      <td>3852</td>\n",
       "      <td>4554.80</td>\n",
       "      <td>2024-10-30 02:28:10</td>\n",
       "      <td>Casestad</td>\n",
       "      <td>ed701bb2-9a00-4fa3-8fda-fc4e428cc661</td>\n",
       "      <td>0</td>\n",
       "      <td>8ed71505-5323-495a-a157-90b998f3b461</td>\n",
       "      <td>170.57.47.74</td>\n",
       "    </tr>\n",
       "    <tr>\n",
       "      <th>4</th>\n",
       "      <td>65b8e1fd-79b8-4bd3-bf51-ed68c61bb18e</td>\n",
       "      <td>8564</td>\n",
       "      <td>1566.59</td>\n",
       "      <td>2024-10-30 02:42:29</td>\n",
       "      <td>Port Dwayneshire</td>\n",
       "      <td>8604cd4b-40fe-4be6-a12b-fb68cf1ce311</td>\n",
       "      <td>0</td>\n",
       "      <td>18bec6a9-4b7c-458e-af8c-a55601b980a5</td>\n",
       "      <td>149.174.232.205</td>\n",
       "    </tr>\n",
       "  </tbody>\n",
       "</table>\n",
       "</div>"
      ],
      "text/plain": [
       "                         transaction_id  user_id   amount  \\\n",
       "0  4cc3cf9b-4e58-499e-b9b4-6d971b7740ca     8924  3718.93   \n",
       "1  40136a9a-cd26-452e-91e0-fc338dab9990     1323  4180.20   \n",
       "2  41f0dd83-f71b-4e79-a7d1-38c074a5502f     2301  2743.46   \n",
       "3  dafa566b-e961-4ab6-979a-38a225dbf373     3852  4554.80   \n",
       "4  65b8e1fd-79b8-4bd3-bf51-ed68c61bb18e     8564  1566.59   \n",
       "\n",
       "             timestamp              city  \\\n",
       "0  2024-10-30 02:00:24         Gatesport   \n",
       "1  2024-10-30 02:13:11       Josephmouth   \n",
       "2  2024-10-30 02:17:13     Austinchester   \n",
       "3  2024-10-30 02:28:10          Casestad   \n",
       "4  2024-10-30 02:42:29  Port Dwayneshire   \n",
       "\n",
       "                            merchant_id  refund_flag  \\\n",
       "0  04bdaac1-8944-4db7-95d9-4ce8a17157d1            0   \n",
       "1  fefd20f7-3eae-4604-bdfa-537d4d37e4a1            0   \n",
       "2  2c5e38cb-ee4f-414b-a9c4-50735b123cf3            0   \n",
       "3  ed701bb2-9a00-4fa3-8fda-fc4e428cc661            0   \n",
       "4  8604cd4b-40fe-4be6-a12b-fb68cf1ce311            0   \n",
       "\n",
       "                              device_id       ip_address  \n",
       "0  aa9c3270-2ffc-4c09-a9c3-4ef68543321e      193.57.14.4  \n",
       "1  2e8d4947-83c3-4944-ab1a-5da90b72311b    71.134.231.81  \n",
       "2  3e74126c-3063-4854-a3e7-e369d8ea9b41   173.99.247.135  \n",
       "3  8ed71505-5323-495a-a157-90b998f3b461     170.57.47.74  \n",
       "4  18bec6a9-4b7c-458e-af8c-a55601b980a5  149.174.232.205  "
      ]
     },
     "execution_count": 42,
     "metadata": {},
     "output_type": "execute_result"
    }
   ],
   "source": [
    "# SQL: find odd-hour activity\n",
    "query = \"\"\"\n",
    "SELECT *\n",
    "FROM transactions\n",
    "WHERE CAST(strftime('%H', timestamp) AS INTEGER) BETWEEN 2 AND 4\n",
    "\"\"\"\n",
    "\n",
    "unusual_time_df = pd.read_sql_query(query, conn)\n",
    "unusual_time_df.head()\n"
   ]
  },
  {
   "cell_type": "code",
   "execution_count": 43,
   "id": "69eef840",
   "metadata": {},
   "outputs": [],
   "source": [
    "unusual_time_df.to_csv(\"../data/unusual_time_transactions.csv\", index=False)"
   ]
  },
  {
   "cell_type": "code",
   "execution_count": 46,
   "id": "e65a37a8",
   "metadata": {},
   "outputs": [
    {
     "data": {
      "text/plain": [
       "(3834, 3119)"
      ]
     },
     "execution_count": 46,
     "metadata": {},
     "output_type": "execute_result"
    }
   ],
   "source": [
    "len(unusual_time_df), unusual_time_df['user_id'].nunique()\n"
   ]
  },
  {
   "cell_type": "code",
   "execution_count": 47,
   "id": "9053f73d",
   "metadata": {},
   "outputs": [
    {
     "ename": "ModuleNotFoundError",
     "evalue": "No module named 'matplotlib'",
     "output_type": "error",
     "traceback": [
      "\u001b[31m---------------------------------------------------------------------------\u001b[39m",
      "\u001b[31mModuleNotFoundError\u001b[39m                       Traceback (most recent call last)",
      "\u001b[36mCell\u001b[39m\u001b[36m \u001b[39m\u001b[32mIn[47]\u001b[39m\u001b[32m, line 1\u001b[39m\n\u001b[32m----> \u001b[39m\u001b[32m1\u001b[39m \u001b[38;5;28;01mimport\u001b[39;00m\u001b[38;5;250m \u001b[39m\u001b[34;01mmatplotlib\u001b[39;00m\u001b[34;01m.\u001b[39;00m\u001b[34;01mpyplot\u001b[39;00m\u001b[38;5;250m \u001b[39m\u001b[38;5;28;01mas\u001b[39;00m\u001b[38;5;250m \u001b[39m\u001b[34;01mplt\u001b[39;00m\n\u001b[32m      3\u001b[39m \u001b[38;5;66;03m# extracting hour from timestamp\u001b[39;00m\n\u001b[32m      4\u001b[39m unusual_time_df[\u001b[33m'\u001b[39m\u001b[33mhour\u001b[39m\u001b[33m'\u001b[39m] = pd.to_datetime(unusual_time_df[\u001b[33m'\u001b[39m\u001b[33mtimestamp\u001b[39m\u001b[33m'\u001b[39m]).dt.hour\n",
      "\u001b[31mModuleNotFoundError\u001b[39m: No module named 'matplotlib'"
     ]
    }
   ],
   "source": [
    "import matplotlib.pyplot as plt\n",
    "\n",
    "# extracting hour from timestamp\n",
    "unusual_time_df['hour'] = pd.to_datetime(unusual_time_df['timestamp']).dt.hour\n",
    "\n",
    "# plot frequency of transactions p/hour\n",
    "unusual_time_df['hour'].value_counts().sort_index().plot(\n",
    "    kind='bar',\n",
    "    color='darkred',\n",
    "    figsize=(8, 4)\n",
    ")\n",
    "\n",
    "plt.title(\"📊 Suspicious Transactions by Hour (2AM–4AM)\")\n",
    "plt.xlabel(\"Hour of Day\")\n",
    "plt.ylabel(\"Transaction Count\")\n",
    "plt.xticks(rotation=0)\n",
    "plt.grid(axis='y')\n",
    "plt.tight_layout()\n",
    "plt.show()"
   ]
  }
 ],
 "metadata": {
  "kernelspec": {
   "display_name": "Python 3",
   "language": "python",
   "name": "python3"
  },
  "language_info": {
   "codemirror_mode": {
    "name": "ipython",
    "version": 3
   },
   "file_extension": ".py",
   "mimetype": "text/x-python",
   "name": "python",
   "nbconvert_exporter": "python",
   "pygments_lexer": "ipython3",
   "version": "3.13.3"
  }
 },
 "nbformat": 4,
 "nbformat_minor": 5
}
